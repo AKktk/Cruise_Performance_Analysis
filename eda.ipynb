{
 "cells": [
  {
   "cell_type": "code",
   "execution_count": null,
   "id": "932e8adb",
   "metadata": {},
   "outputs": [],
   "source": [
    "import pandas as pd\n",
    "import numpy as np\n",
    "import matplotlib.pyplot as plt\n",
    "import seaborn as sns\n",
    "pd.set_option('display.max_columns', 50)\n",
    "pd.set_option('display.max_rows', 50)"
   ]
  },
  {
   "cell_type": "code",
   "execution_count": null,
   "id": "cf037486",
   "metadata": {},
   "outputs": [],
   "source": [
    "from utility import *\n",
    "from trends import *\n",
    "from plot import *\n",
    "from kpi_computation import *\n",
    "from forecast import *"
   ]
  },
  {
   "cell_type": "markdown",
   "id": "93b97438",
   "metadata": {},
   "source": [
    "1. The features in the dataset are continuous. They are as follows:\n",
    "    - Power consumed by different components\n",
    "    - Factors influencing power consumption \n",
    "    - Time series in an interval of 5 minutes for 2 vessels, spanning across a year. That makes it $12*24*365 = 105120$ data points for each vessel.\n"
   ]
  },
  {
   "cell_type": "code",
   "execution_count": null,
   "id": "6b8aca89",
   "metadata": {},
   "outputs": [],
   "source": [
    "# Read the data\n",
    "df = pd.read_csv('data/data.csv', header = 0)\n",
    "df.head()"
   ]
  },
  {
   "cell_type": "code",
   "execution_count": null,
   "id": "7c4363df",
   "metadata": {},
   "outputs": [],
   "source": [
    "df.describe()"
   ]
  },
  {
   "cell_type": "code",
   "execution_count": null,
   "id": "0696519b",
   "metadata": {},
   "outputs": [],
   "source": [
    "# Check the data types and column names\n",
    "df.dtypes"
   ]
  },
  {
   "cell_type": "markdown",
   "id": "41e3eacc",
   "metadata": {},
   "source": [
    "**The features in the entire dataset are (without the Start time, End Time and the Vessel Name):**\n",
    "| Column Name |\n",
    "|-------------|\n",
    "| Power Galley 1 (MW) |\n",
    "| Power Galley 2 (MW) |\n",
    "| Power Service (MW) |\n",
    "| HVAC Chiller 1 Power (MW) |\n",
    "| HVAC Chiller 2 Power (MW) |\n",
    "| HVAC Chiller 3 Power (MW) |\n",
    "| Scrubber Power (MW) |\n",
    "| Sea Temperature (Celsius) |\n",
    "| Boiler 1 Fuel Flow Rate (L/h) |\n",
    "| Boiler 2 Fuel Flow Rate (L/h) |\n",
    "| Incinerator 1 Fuel Flow Rate (L/h) |\n",
    "| Diesel Generator 1 Power (MW) |\n",
    "| Diesel Generator 2 Power (MW) |\n",
    "| Diesel Generator 3 Power (MW) |\n",
    "| Diesel Generator 4 Power (MW) |\n",
    "| Latitude (Degrees) |\n",
    "| Longitude (Degrees) |\n",
    "| Relative Wind Angle (Degrees) |\n",
    "| True Wind Angle (Degrees) |\n",
    "| Depth (m) |\n",
    "| Relative Wind Direction (Degrees) |\n",
    "| True Wind Direction (Degrees) |\n",
    "| Draft (m) |\n",
    "| Speed Over Ground (knots) |\n",
    "| True Wind Speed (knots) |\n",
    "| Relative Wind Speed (knots) |\n",
    "| Speed Through Water (knots) |\n",
    "| Local Time (h) |\n",
    "| Trim (m) |\n",
    "| Propulsion Power (MW) |\n",
    "| Port Side Propulsion Power (MW) |\n",
    "| Starboard Side Propulsion Power (MW) |\n",
    "| Bow Thruster 1 Power (MW) |\n",
    "| Bow Thruster 2 Power (MW) |\n",
    "| Bow Thruster 3 Power (MW) |\n",
    "| Stern Thruster 1 Power (MW) |\n",
    "| Stern Thruster 2 Power (MW) |\n",
    "| Main Engine 1 Fuel Flow Rate (kg/h) |\n",
    "| Main Engine 2 Fuel Flow Rate (kg/h) |\n",
    "| Main Engine 3 Fuel Flow Rate (kg/h) |\n",
    "| Main Engine 4 Fuel Flow Rate (kg/h) |"
   ]
  },
  {
   "cell_type": "markdown",
   "id": "15d06665",
   "metadata": {},
   "source": [
    "# Vessel - Level Analysis"
   ]
  },
  {
   "cell_type": "code",
   "execution_count": null,
   "id": "0fa52796",
   "metadata": {},
   "outputs": [],
   "source": [
    " dfv = pick_vessel(df, 'Vessel 1')\n",
    "# dfv = pick_vessel(df, 'Vessel 2')\n",
    "# dfv = df"
   ]
  },
  {
   "cell_type": "code",
   "execution_count": null,
   "id": "461ef083",
   "metadata": {},
   "outputs": [],
   "source": [
    "# Generates the distribution of the features in the dataset as histogram plots\n",
    "feature_distribution(dfv)"
   ]
  },
  {
   "cell_type": "markdown",
   "id": "e132918e",
   "metadata": {},
   "source": [
    "**Comments (Vessel 1):**\n",
    "1. Power Galleys: Mostly constant range of power consumption in operation. Less variation and wouldn't contribute much in forecast models\n",
    "2. HVAC Chillers: A lot of variation, but extremely skewed in the sense that most of of the operation range is fixed\n",
    "3. Scrubber Power: Shows 4 peaks, denoting 4 levels of high intensity cleaning activities\n",
    "4. Power Service: Service Power is more uniformly distributed but doesn't have much variation in the data\n",
    "5. Sea Temperature: Primarily influenced by the season of the year, and equitorial position of the ship, is uniformly distributed except for a peak on the right side indicating sligh skewness probably due to stronger summer season in one of the locations\n",
    "6. Boiler Fuel Flow: Consists of a tall box and a tiny peak at the higher end of fuel flow rate. Most of the usual operations happen in between 0-10L/h fuel flow. Rarely, on days of extreme weather or rough operations\n",
    "7. Incinerator: Majority of the waste removal operation happens with a lower fuel requirement, except for some extreme cases. These could be during docking for extra cleaning/occassional discharge cleaning.\n",
    "8. Diesel Generators: Substantiate a 2-3 peaks highlighting a 2-3 modes of operation, including traveling against currents/winds requiring higher throughput\n",
    "9. Latitude and Longitude: Positions indicate travel in the northern hemisphere, around Atlantic, with extra time spent close to the prime meridian\n",
    "10. Relative Wind angle: Indicates that the cruise ship tries to move and orient itself in-line to the wind 0deg or 360deg for conserving energy by taking the momentum from wind and also by reducing drag\n",
    "11. Depth: The cruise tries to maintain consistent depth throughout between 0-100 metres\n",
    "12. Draft: maintained constantly between 7.5 and 8 metres, shows buoyancy control and build quality of the ship\n",
    "13. Relative Wind Speed: The wind speed is aligned in favor to the ship movement by aligning the direction of sail\n",
    "14. Speed through water/over land: Indicates 2 modes, one low rangee where the ship is either docking, anchoring or sailing in shallow waters. The second peak which is not so frequent indicates high speed motion. Among these, Speed through water has higher peak on greater end of speed spectrum because the ship has to move against the water many a times.\n",
    "15. Trim: A uniform and normally distributed trim is maintained indicating well-planned design execution throughout the operation\n",
    "16. Propulsion power has 4 peaks, indicating 4 ranges of operation. It is well spread out with variation, higher power being demanded probably when the ship is leaving from docks and is on shallow waters.\n",
    "17. Thrusters: Limited operating ranges with 0-0.1 MW consumed in maneuvering primarily\n",
    "18. Main Engine Fuel Flow: Is optimized to operate mostly at lower end without many fluctuations. This is indicated by a left skewed histogram, with only rare activities on the higher end\n",
    "\n",
    "**Comments (Vessel2):**\n",
    "In terms of feature distribution, vessel 2 replicates the same distribution for almost all the features, except latitude and longitude positions. Which indicates a different route. Beyond that, to look at specific differences between the features of the two vessels: a boxplot would be ideal!"
   ]
  },
  {
   "cell_type": "code",
   "execution_count": null,
   "id": "36a76290",
   "metadata": {},
   "outputs": [],
   "source": [
    "# def feature_boxplot(df):\n",
    "#     columns_to_plot = [col for col in df.columns if col not in ['Start Time', 'End Time', 'Vessel Name']]\n",
    "    \n",
    "#     # Create a boxplot for each column\n",
    "#     for col in columns_to_plot:\n",
    "#         plt.figure(figsize=(10, 6))\n",
    "#         sns.boxplot(x='Vessel Name', y=col, data=df)\n",
    "#         plt.title(f'Boxplot of {col} for Comparison between Vessels')\n",
    "#         plt.xlabel('Vessel Name')\n",
    "#         plt.ylabel(col)\n",
    "#         plt.show()"
   ]
  },
  {
   "cell_type": "code",
   "execution_count": null,
   "id": "3be4aae0",
   "metadata": {},
   "outputs": [],
   "source": [
    "feature_boxplot(df) # Boxplot of the features for comparison between vessels"
   ]
  },
  {
   "cell_type": "markdown",
   "id": "b70a4b46",
   "metadata": {},
   "source": [
    "As we can see, there are a few differences in operational parameters for the two vessels. Majorly, the median propulstion power indicated by a line in the body of the candle is lower for Vessel 2.\n",
    "Meanwhile, there are many outliers in terms of Main engine fuel flow for vessel 2 and a larger variation within the body of the candle can be seen (1st quartile and 3rd quartile). The values are spread over a higher range of fuel flow.\n",
    "With a lower median of propulsion power, this directly implies that the Power Specific Fuel Consumptions KPI, or the fuel required to produce a unit of power(efficiency) is much lower for vessel2."
   ]
  },
  {
   "cell_type": "code",
   "execution_count": null,
   "id": "caaee323",
   "metadata": {},
   "outputs": [],
   "source": [
    "missing_values = dfv.isna().sum()\n",
    "missing_values.plot(kind='bar',figsize=(12,5), title='Missing Values')  # Plot the missing values"
   ]
  },
  {
   "cell_type": "markdown",
   "id": "8718b96a",
   "metadata": {
    "vscode": {
     "languageId": "bat"
    }
   },
   "source": [
    "### Impute the missing Values:\n",
    "**Comments Vessel 1:**\n",
    "1. For features that have <1%  missing values, impute by interpolating them using closest non-missing values as the features are all usually smooth within the 5mins time intervals in which they are recorded\n",
    "2. For features that have >20% missing values, impute by using median of the column/feautre. The idea of using median is based on the skewed constant nature of depth maintained by the ship for most of the periods\n",
    "\n",
    "**Comments Vessel 2:**\n",
    "1. For features that have <1%  missing values, impute by interpolating them using closest non-missing values as the features are all usually smooth within the 5mins time intervals in which they are recorded\n",
    "2. For features that have >20% missing values, impute by using median of the column/feautre\n",
    "There are about 5-6 rows where all the values are empty except vessel name and timestamps. These rows can alternatively be removed from analysis. This is mostly a reporting error than a machine lapse, because a machine lapse and a sudden fluctuation between operational state and non-operational states is not possible within a 10-15 min time window. Also, in a later stage while resampling, they will have to be interpolated anyway. For the 'Depth' feature, a complete imputation with median/mean is necessary"
   ]
  },
  {
   "cell_type": "code",
   "execution_count": null,
   "id": "1bb44a81",
   "metadata": {},
   "outputs": [],
   "source": [
    "# Imputing the missing values\n",
    "missing_values"
   ]
  },
  {
   "cell_type": "code",
   "execution_count": null,
   "id": "74ac33b8",
   "metadata": {},
   "outputs": [],
   "source": [
    "col_to_interpolate = dfv.columns.difference(['Depth (m)', 'Start Time', 'End Time', 'Vessel Name']) # Columns to interpolate"
   ]
  },
  {
   "cell_type": "code",
   "execution_count": null,
   "id": "c4c18cf1",
   "metadata": {},
   "outputs": [],
   "source": [
    "impute_time_series(dfv, col_to_interpolate) # Imputation via interpolation for the columns with < 1% missing values as they are likely to be continuous in time\n",
    "dfv.isna().sum()"
   ]
  },
  {
   "cell_type": "code",
   "execution_count": null,
   "id": "60b369db",
   "metadata": {},
   "outputs": [],
   "source": [
    "median_depth = dfv['Depth (m)'].median() # impution via median value as more than 20% of the values are missing\n",
    "dfv['Depth (m)'].fillna(median_depth, inplace=True)\n",
    "dfv.isna().sum()"
   ]
  },
  {
   "cell_type": "code",
   "execution_count": null,
   "id": "bbec3369",
   "metadata": {},
   "outputs": [],
   "source": [
    "dfv.head()"
   ]
  },
  {
   "cell_type": "markdown",
   "id": "e070881b",
   "metadata": {},
   "source": [
    "### Multi-Collinearity Check"
   ]
  },
  {
   "cell_type": "code",
   "execution_count": null,
   "id": "eea53136",
   "metadata": {},
   "outputs": [],
   "source": [
    "# Correlation matrix\n",
    "dfv_sub = dfv.iloc[:,3:]\n",
    "corr = dfv_sub.corr()"
   ]
  },
  {
   "cell_type": "code",
   "execution_count": null,
   "id": "447ee6e0",
   "metadata": {},
   "outputs": [],
   "source": [
    "high_corr = []\n",
    "for i in corr.columns:\n",
    "    high_corr.append(corr[(corr[i] > 0.8) | (corr[i] < -0.8)][i])\n",
    "print(f'The highly correlated columns are:{high_corr}')"
   ]
  },
  {
   "cell_type": "code",
   "execution_count": null,
   "id": "c5194f51",
   "metadata": {},
   "outputs": [],
   "source": [
    "# Plot the correlation matrix\n",
    "fig, ax = plt.subplots(figsize=(24,20))\n",
    "sns.heatmap(data = corr[(corr > 0.8) | (corr < -0.8)], vmin=-1,vmax=1, cmap='coolwarm', ax = ax, annot= True)\n",
    "ax.set_xticklabels(ax.get_xticklabels(), rotation=90)\n",
    "ax.set_title('Correlation Matrix')\n",
    "plt.show()"
   ]
  },
  {
   "cell_type": "markdown",
   "id": "869e308c",
   "metadata": {},
   "source": [
    "**Comments (Vessel 1):**\n",
    "1. Diesel Generators' Power are highly correlated to corresponding Main Engine's Fuel flow rate \n",
    "2. Propulsion power is a linear combination of Port Side Propulsion Power and Starboard Side Propulsion Power \n",
    "3. Speed through water and Speed over ground are positively correlated to the Propulsion Power\n",
    "4. Sea water temperature reducing as the latitude is increasing completely makes sense. This is because, temperatures are lower as one moves towards the poles\n",
    "\n",
    "**Comments (Vessel 2):**\n",
    "1. Diesel Generators' Power are highly correlated to corresponding Main Engine's Fuel flow rate (=1) \n",
    "2. Propulsion power is a linear combination of Port Side Propulsion Power and Starboard Side Propulsion Power \n",
    "3. Speed through water and Speed over ground are positively correlated to the Propulsion Power (=0.91)\n",
    "4. Sea water temperature reducing as the latitude is increasing completely makes sense. This is because, temperatures are lower as one moves towards the poles. Longitude is also negatively correlated to sea temperatures\n"
   ]
  },
  {
   "cell_type": "markdown",
   "id": "8e30ad7f",
   "metadata": {},
   "source": [
    "### Trend and seasonality analysis\n",
    "The outliers and skewness in the data are kept for analysis as this is recorded first hand. For forecasting the data will be standardized but now the analysis is done as is"
   ]
  },
  {
   "cell_type": "code",
   "execution_count": null,
   "id": "b8e14991",
   "metadata": {},
   "outputs": [],
   "source": [
    "# Resampling the data for hourly, daily, weekly and seasonal trends\n",
    "hourly_df, daily_df, weekly_df, monthly_df = resample(dfv)"
   ]
  },
  {
   "cell_type": "code",
   "execution_count": null,
   "id": "c319ac96",
   "metadata": {},
   "outputs": [],
   "source": [
    "# Pick a feature from the list above to visualize the trend over\n",
    "trend_plot(hourly_df, daily_df, weekly_df, monthly_df, 'Propulsion Power (MW)')"
   ]
  },
  {
   "cell_type": "markdown",
   "id": "81c4ff08",
   "metadata": {},
   "source": [
    "**Comments (Vessel 1):**\n",
    "- 'Propulsion Power (MW)' vs 'Relative Wind Speed (knots)': Extreme Wind speeds demand more propulsion power, indicating the ship having to re-direct itself or move against the wind\n",
    "- 'Latitude' vs 'Relative Wind Speed (knots)': No visible relationship between Latitude and Relative wind Speeds\n",
    "\n",
    "**Comments (Vessel 2):**\n",
    "- 'Propulsion Power (MW)' vs 'Relative Wind Speed (knots)': Extreme Wind speeds demand more propulsion power, which is clearly indicated in the plots as the ship having to re-direct itself or move against the wind\n",
    "- 'Latitude' vs 'Relative Wind Speed (knots)': No visible relationship between Latitude and Relative wind Speeds"
   ]
  },
  {
   "cell_type": "code",
   "execution_count": null,
   "id": "23db4c22",
   "metadata": {},
   "outputs": [],
   "source": [
    "# Pick 2 features from the above list to visualize their relationship with each other over time\n",
    "pair_plot(hourly_df, daily_df, weekly_df, monthly_df, 'Propulsion Power (MW)', 'Relative Wind Speed (knots)')"
   ]
  },
  {
   "cell_type": "markdown",
   "id": "82c3ed1f",
   "metadata": {},
   "source": [
    "**Comments (Vessel 1):**\n",
    "- 'Propulsion Power (MW)' vs 'Relative Wind Speed (knots)': Extreme Wind speeds demand more propulsion power, indicating the ship having to re-direct itself or move against the wind\n",
    "- 'Latitude' vs 'Relative Wind Speed (knots)': No visible relationship between Latitude and Relative wind Speeds\n",
    "\n",
    "**Comments (Vessel 2):**\n",
    "- 'Propulsion Power (MW)' vs 'Relative Wind Speed (knots)': Extreme Wind speeds demand more propulsion power, which is clearly indicated in the plots as the ship having to re-direct itself or move against the wind\n",
    "- 'Latitude' vs 'Relative Wind Speed (knots)': No visible relationship between Latitude and Relative wind Speeds"
   ]
  },
  {
   "cell_type": "markdown",
   "id": "464c76b2",
   "metadata": {},
   "source": [
    "### KPI Generation and Analysis\n",
    "3 KPIs are generated based on domain knowledge and research (check the Energy Flow Diagram I built on the README):\n",
    "1. Fuel Consumption per nautical mile ( A measure of fuel efficiency)\n",
    "2. Total Power Consumed\n",
    "3. Power Specific Fuel Consumption\n",
    "\n",
    "**Method**\n",
    "- Fuel Consumption per nautical mile = Sum of Engine Fuel Flow / Speed through water. It is capped at a maximum of 5000, because it goes to infinity when speed through is very close to 0. This happens while docking and anchoring\n",
    "- Total Power Consumed = Sum power consumed by Power Galleys, HVAC Chillers, Power Service, Scrubber, Propulsion and Thrusters\n",
    "- Power Specific Fuel Consumption = Fuel flow in engines, boilers and incinerator/ Total power consumed. Similar to the very commonly used fuel efficiency or brake specific fuel consumption (BSFC). It is used to assess the efficiency of any engine that burns fuel and produces rotational power, typically internal combustion engines. Assuming Fuel in Boiler and Incinerator to be Diesel and the density to be 0.85 kg/litre, for mass flow calculation."
   ]
  },
  {
   "cell_type": "code",
   "execution_count": null,
   "id": "341158c8",
   "metadata": {},
   "outputs": [],
   "source": [
    "# Compute the KPIs at hourly level\n",
    "h_kpi = compute_kpis(hourly_df)"
   ]
  },
  {
   "cell_type": "code",
   "execution_count": null,
   "id": "ef490810",
   "metadata": {},
   "outputs": [],
   "source": [
    "h_kpi['Fuel Consumption per nautical mile'].describe()"
   ]
  },
  {
   "cell_type": "code",
   "execution_count": null,
   "id": "52e329aa",
   "metadata": {},
   "outputs": [],
   "source": [
    "# Compute KPIS for daily, weekly and monthly granular data\n",
    "d_kpi = compute_kpis(daily_df)\n",
    "w_kpi = compute_kpis(weekly_df)\n",
    "m_kpi = compute_kpis(monthly_df)"
   ]
  },
  {
   "cell_type": "code",
   "execution_count": null,
   "id": "009452ef",
   "metadata": {},
   "outputs": [],
   "source": [
    "pair_plot(h_kpi, d_kpi, w_kpi, m_kpi, 'Total Power Consumed (MW)', 'Speed Over Ground (knots)')"
   ]
  },
  {
   "cell_type": "code",
   "execution_count": null,
   "id": "d1d97801",
   "metadata": {},
   "outputs": [],
   "source": [
    "pair_plot(h_kpi, d_kpi, w_kpi, m_kpi, 'Fuel Consumption per nautical mile', 'Speed Over Ground (knots)')"
   ]
  },
  {
   "cell_type": "code",
   "execution_count": null,
   "id": "f9ed42ac",
   "metadata": {},
   "outputs": [],
   "source": [
    "pair_plot(h_kpi, d_kpi, w_kpi, m_kpi, 'Power Specific Fuel Consumption (kg/h/(MW))', 'Speed Over Ground (knots)')"
   ]
  },
  {
   "cell_type": "markdown",
   "id": "bd9c8467",
   "metadata": {},
   "source": [
    "**Comments(Vessel 1):**\n",
    "1. KPIs vs Sea Temperature\n",
    "- On the long-term front, with seasonality in play: we can observe from the monthly chart that for warmer conditions of water, more power is consumed. \n",
    "- This totally makes sense as the water would be less dense and the ship would have to work generate thrust to move through it\n",
    "- The effect is not fully observed in the Fuel Efficiency chart as lower density also means lower resistance to move through water. \n",
    "2. KPIs vs Speed over Ground\n",
    "- Total Power Required increases with Speed over Ground\n",
    "- Fuel Consumption per nautical mile has two clusters where there is not much increase in Fuel required per nautical mile (between 6&8, 12&17)\n",
    "- Coming to Power Specific Fuel Consumption, the optimal speeds again lie between 12 and 17 where ther Fuel required to produce a certain power is flat and considerably low\n",
    "\n",
    "Based on the scatter plots, the optimal speed of operation are betweent 7.5-8.5 and 15-17.5, where there is a horizontal spread of points: the fuel required to operate in these range of speeds seem to be the same and not fluctuate a lot\n",
    "\n",
    "**Comments(Vessel 2):**\n",
    "1. KPIs vs Sea Temperature\n",
    "- On the long-term front, with seasonality in play: we can observe from the monthly chart that for warmer conditions of water, more power is consumed. \n",
    "- This totally makes sense as the water would be less dense and the ship would have to work generate thrust to move through it\n",
    "- The effect is not fully observed in the Fuel Efficiency chart as lower density also means lower resistance to move through water. \n",
    "2. KPIs vs Speed over Ground\n",
    "- Total Power Required increases with Speed over Ground\n",
    "- Fuel Consumption per nautical mile has increases consistently with speed (between 6&8, 12&17)\n",
    "- Coming to Power Specific Fuel Consumption, no visible pattern can be seen"
   ]
  },
  {
   "cell_type": "markdown",
   "id": "c12c283f",
   "metadata": {},
   "source": [
    "### Time-Series Forecasts\n",
    "1. I first remove the columns not necessary for analysis like 'End Time' and 'Vessel Name'\n",
    "2. Further, from the above analysis it is also determined that some columns are very highly correlated. If two columns are correlated at > 0.9, only one is kept for the analysis\n",
    "3. If the distribution of a column is very narrow, it doesn't offer any variation as a feature. Hence we remove that also from the analysis\n",
    "4. None of the features used to generate the KPI can be used for forecasting as it will be linearly dependant by inherent nature\n",
    "5. Therefores, in the SARIMAX Seasonal modeling and forecast, I take an approach to try and forecast the total power from external factors that can be pre-planned before the cruise starts based on weather forecasts and other requirements\n",
    "6. Finally, this is concluded with some simple hyperparameter tuning for better AIC value (Penalizing method for addition of a new feature to the model) to get the best performing forecast\n",
    "\n",
    "Hourly will be too granular and computationally expensive. Monthly analysis would be sparse and not so informative since we only have 1 year data"
   ]
  },
  {
   "cell_type": "markdown",
   "id": "8b2d6314",
   "metadata": {},
   "source": [
    "**External factors that can be pre-planned before the cruise starts**\n",
    "\n",
    "['Sea Temperature (Celsius)', 'Latitude (Degrees)', 'Longitude (Degrees)', 'Relative Wind Angle (Degrees)', 'True Wind Angle (Degrees)', 'Depth (m)', 'Relative Wind Direction (Degrees)', 'True Wind Direction (Degrees)', 'Draft (m)',\n",
    "    'Speed Over Ground (knots)', 'True Wind Speed (knots)', 'Relative Wind Speed (knots)', 'Local Time (h)', 'Trim (m)', 'Total Power Consumed (MW)']"
   ]
  },
  {
   "cell_type": "code",
   "execution_count": null,
   "id": "3948db59",
   "metadata": {},
   "outputs": [],
   "source": [
    "# Hourly forecast, the grid search for hyperparameters takes a long time to run, processor limitations\n",
    "h_forecast = h_kpi[['Sea Temperature (Celsius)', 'Latitude (Degrees)', 'Longitude (Degrees)', 'Relative Wind Angle (Degrees)', 'True Wind Angle (Degrees)', 'Depth (m)', 'Relative Wind Direction (Degrees)', 'True Wind Direction (Degrees)', 'Draft (m)',\n",
    "       'Speed Over Ground (knots)', 'True Wind Speed (knots)', 'Relative Wind Speed (knots)', 'Local Time (h)', 'Trim (m)', 'Total Power Consumed (MW)']]"
   ]
  },
  {
   "cell_type": "code",
   "execution_count": null,
   "id": "1f11a5be",
   "metadata": {},
   "outputs": [],
   "source": [
    "# Daily forecast\n",
    "d_forecast = d_kpi[['Sea Temperature (Celsius)', 'Latitude (Degrees)', 'Longitude (Degrees)', 'Relative Wind Angle (Degrees)', 'True Wind Angle (Degrees)', 'Depth (m)', 'Relative Wind Direction (Degrees)', 'True Wind Direction (Degrees)', 'Draft (m)',\n",
    "       'Speed Over Ground (knots)', 'True Wind Speed (knots)', 'Relative Wind Speed (knots)', 'Local Time (h)', 'Trim (m)', 'Total Power Consumed (MW)']]"
   ]
  },
  {
   "cell_type": "code",
   "execution_count": null,
   "id": "c7154c7c",
   "metadata": {},
   "outputs": [],
   "source": [
    "sarimax_forecast(d_forecast, 'Total Power Consumed (MW)', 7) #7 day forecast"
   ]
  },
  {
   "cell_type": "markdown",
   "id": "0934a74b",
   "metadata": {},
   "source": [
    "**Comments Vessel 1: Power- Daily**\n",
    "- For the dataset on a daily level granularity, Total power consumption for the cruise ship can be forecasted within acceptable margin of errors. The 95% confidence range of forecast is also predicted. The true range almost always lies in the 95% confidence range of forecast.\n",
    "- This is by using external factors only, without taking into account any operational component. Therefore it states that the external conditions can forecast the energy requirements for the ship, this can aid in early resource planning of cruises\n",
    "- Best SARIMA(1, 1, 1)x(0, 0, 0, 7) - AIC:1330.37243216749\n",
    "- RMSE:  2.616105733879915 (MW)\n",
    "- R2 Score:  0.848555942512195\n",
    "\n",
    "**Comments Vessel 2: Power- Daily**\n",
    "- For the dataset on a daily level granularity, Total power consumption for the cruise ship can be forecasted better than for vessel 1 in terms of AIC and R2 values. The 95% confidence range of forecast is also predicted. The true range almost always lies in the 95% confidence range of forecast.\n",
    "- This is by using external factors only, without taking into account any operational component. Therefore it states that the external conditions can forecast the energy requirements for the ship, this can aid in early resource planning of cruises\n",
    "- Best SARIMA(1, 0, 1)x(0, 1, 1, 7) - AIC:1268.9562687277244\n",
    "- RMSE:  1.5000476299191863 (MW)\n",
    "- R2 Score:  0.8428713947731085"
   ]
  },
  {
   "cell_type": "code",
   "execution_count": null,
   "id": "d29adce7",
   "metadata": {},
   "outputs": [],
   "source": [
    "d_forecast_fuel = d_kpi[['Fuel Consumption per nautical mile', 'Total Power Consumed (MW)']]"
   ]
  },
  {
   "cell_type": "code",
   "execution_count": null,
   "id": "070c81b5",
   "metadata": {},
   "outputs": [],
   "source": [
    "d_forecast_fuel.head()"
   ]
  },
  {
   "cell_type": "code",
   "execution_count": null,
   "id": "d37a8f3b",
   "metadata": {},
   "outputs": [],
   "source": [
    "sarimax_forecast(d_forecast_fuel, 'Fuel Consumption per nautical mile', 7)"
   ]
  },
  {
   "cell_type": "markdown",
   "id": "dca8e6d4",
   "metadata": {},
   "source": [
    "**Comments for Vessel 1: Fuel Consumption per nautical mile**\n",
    "- For the dataset on a daily level granularity, Fuel Consumption per nautical mile for the cruise ship can be forecasted just using the Total power consumption data within acceptable range of errors. The 95% confidence range of forecast is also predicted. The true range almost always lies in the 95% confidence range of forecast. The 95% range in this case is also narrow, that shows more certainity and less variance in predictions.\n",
    "- This means, if an accurate enough forecast can be made for the power requirements, the forecast can in turn can be used for fuel requirements of the cruise ship. Therefore it states that the external conditions can forecast the fuel planning requirements for the ship, this can aid in early duel planning of cruises, with potential for entering trade positions.\n",
    "- Best SARIMA(1, 1, 1)x(0, 1, 1, 7) - AIC:3924.477617510145\n",
    "- RMSE:  161.68641766048893 (kg/h/knots)\n",
    "\n",
    "**Comments for Vessel 2: Fuel Consumption per nautical mile**\n",
    "- For the dataset on a daily level granularity, Fuel Consumption per nautical mile for the cruise ship 2 can be forecasted just using the Total power consumption data within acceptable range of errors. The 95% confidence range of forecast is also predicted. The true range almost always lies in the 95% confidence range of forecast. The 95% range in this case is also narrow, that shows more certainity and less variance in predictions.\n",
    "- In this case the forecast is better than for Vessel 1 in terms of the AI and R2 values, the forecast can in turn can be used for fuel requirements of the cruise ship. Therefore it states that the external conditions can forecast the fuel planning requirements for the ship, this can aid in early duel planning of cruises, with potential for entering trade positions.\n",
    "- Best SARIMA(1, 1, 1)x(0, 1, 1, 7) - AIC:3931.2154674475537\n",
    "- RMSE:  70.80014247972981\n",
    "- R2 Score:  0.990756819854504"
   ]
  },
  {
   "cell_type": "code",
   "execution_count": null,
   "id": "94cf2d35",
   "metadata": {},
   "outputs": [],
   "source": [
    "best_forecast(d_forecast_fuel, 'Fuel Consumption per nautical mile', [1,1,1],[0,1,1,7])"
   ]
  },
  {
   "cell_type": "code",
   "execution_count": null,
   "id": "c2a5d969",
   "metadata": {},
   "outputs": [],
   "source": [
    "# Weekly Forecast model\n",
    "w_forecast = w_kpi[['Sea Temperature (Celsius)', 'Latitude (Degrees)', 'Longitude (Degrees)', 'Relative Wind Angle (Degrees)', 'True Wind Angle (Degrees)', 'Depth (m)', 'Relative Wind Direction (Degrees)', 'True Wind Direction (Degrees)', 'Draft (m)',\n",
    "       'Speed Over Ground (knots)', 'True Wind Speed (knots)', 'Relative Wind Speed (knots)', 'Local Time (h)', 'Trim (m)', 'Total Power Consumed (MW)']]"
   ]
  },
  {
   "cell_type": "code",
   "execution_count": null,
   "id": "d98ee313",
   "metadata": {},
   "outputs": [],
   "source": [
    "sarimax_forecast(w_forecast, 'Total Power Consumed (MW)', 4)"
   ]
  },
  {
   "cell_type": "markdown",
   "id": "22af88fe",
   "metadata": {},
   "source": [
    "**Vessel 1 Weekly Power Forecast**\n",
    "The same deductions as daily forecasts apply for the weekly analyses too:\n",
    "Best SARIMA(0, 0, 0)x(0, 1, 0, 4) - AIC:140.56432053018307\n",
    "RMSE:  2.291589529625523\n",
    "\n",
    "**Vessel 2: Weekly Power Forecast**\n",
    "The weekly forecast has a very wide confidence interval indicating hiher variance, and more uncertainity in forecast\n",
    "- The true values and the forecasts are constantly offset\n",
    "Best SARIMA(1, 0, 1)x(0, 1, 0, 4) - AIC:102.17357626984798\n",
    "RMSE:  2.1498565166984434\n",
    "R2 Score:  -1.8479834608544108\n",
    "\n",
    "A negative R2 indicates a model misinterpretation"
   ]
  },
  {
   "cell_type": "code",
   "execution_count": null,
   "id": "698bee2c",
   "metadata": {},
   "outputs": [],
   "source": [
    "w_forecast_fuel = w_kpi[['Fuel Consumption per nautical mile', 'Total Power Consumed (MW)']]"
   ]
  },
  {
   "cell_type": "code",
   "execution_count": null,
   "id": "7de7057f",
   "metadata": {},
   "outputs": [],
   "source": [
    "sarimax_forecast(w_forecast_fuel, 'Fuel Consumption per nautical mile', 4)  # Weekly forecast 4: weeks constituting a month"
   ]
  },
  {
   "cell_type": "markdown",
   "id": "2d8a1f6e",
   "metadata": {},
   "source": [
    "**Vessel 1 Fuel Consumption per nautical mile: Weekly**\n",
    "- Acceptable performance by the model:\n",
    "Best SARIMA(0, 1, 0)x(1, 1, 1, 4) - AIC:452.4464831963399\n",
    "RMSE:  158.0555408961258\n",
    "\n",
    "**Vessel 2 Fuel Consumption per nautical mile: Weekly**\n",
    "- The model and the true value and miles apart and don't seem to align at all. This could be because of a lack of seasonality in weekly data for the vessel 2"
   ]
  },
  {
   "cell_type": "code",
   "execution_count": null,
   "id": "23b1b093",
   "metadata": {},
   "outputs": [],
   "source": [
    "weekly_df.reset_index(inplace=True)\n",
    "weekly_df.head()"
   ]
  },
  {
   "cell_type": "code",
   "execution_count": null,
   "id": "5e134532",
   "metadata": {},
   "outputs": [],
   "source": [
    "hourly_df.to_csv(\"hourly.csv\")"
   ]
  },
  {
   "cell_type": "code",
   "execution_count": null,
   "id": "e092eb18",
   "metadata": {},
   "outputs": [],
   "source": [
    "# Generate column Table\n",
    "table = '| Column Name |\\n|-------------|\\n'\n",
    "for column in weekly_df.columns:\n",
    "    table += f'| {column} |\\n'\n",
    "print(table)"
   ]
  }
 ],
 "metadata": {
  "kernelspec": {
   "display_name": "Python 3 (ipykernel)",
   "language": "python",
   "name": "python3"
  },
  "language_info": {
   "codemirror_mode": {
    "name": "ipython",
    "version": 3
   },
   "file_extension": ".py",
   "mimetype": "text/x-python",
   "name": "python",
   "nbconvert_exporter": "python",
   "pygments_lexer": "ipython3",
   "version": "3.10.0"
  }
 },
 "nbformat": 4,
 "nbformat_minor": 5
}
