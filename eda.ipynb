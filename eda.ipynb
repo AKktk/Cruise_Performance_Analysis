{
 "cells": [
  {
   "cell_type": "code",
   "execution_count": null,
   "id": "932e8adb",
   "metadata": {},
   "outputs": [],
   "source": [
    "import pandas as pd\n",
    "import numpy as np\n",
    "import matplotlib.pyplot as plt\n",
    "from utility import *\n",
    "import seaborn as sns\n",
    "pd.set_option('display.max_columns', 50)\n",
    "pd.set_option('display.max_rows', 50)"
   ]
  },
  {
   "cell_type": "markdown",
   "id": "93b97438",
   "metadata": {},
   "source": [
    "1. The features in the dataset are continuous. They are as follows:\n",
    "    - Power consumed by different components\n",
    "    - Factors influencing power consumption \n",
    "    - Time series in an interval of 5 minutes for 2 vessels, spanning across a year. That makes it $12*24*365 = 105120$ data points for each vessel.\n"
   ]
  },
  {
   "cell_type": "code",
   "execution_count": null,
   "id": "6b8aca89",
   "metadata": {},
   "outputs": [],
   "source": [
    "# Read the data\n",
    "df = pd.read_csv('data/data.csv', header = 0)\n",
    "df.head()"
   ]
  },
  {
   "cell_type": "code",
   "execution_count": null,
   "id": "0696519b",
   "metadata": {},
   "outputs": [],
   "source": [
    "# Check the data types and column names\n",
    "df.dtypes"
   ]
  },
  {
   "cell_type": "code",
   "execution_count": null,
   "id": "0fa52796",
   "metadata": {},
   "outputs": [],
   "source": [
    "dfv = pick_vessel(df, 'Vessel 1')"
   ]
  },
  {
   "cell_type": "code",
   "execution_count": null,
   "id": "caaee323",
   "metadata": {},
   "outputs": [],
   "source": [
    "missing_values = dfv.isna().sum()\n",
    "missing_values.plot(kind='bar',figsize=(12,5), title='Missing Values')  # Plot the missing values"
   ]
  },
  {
   "cell_type": "code",
   "execution_count": null,
   "id": "1bb44a81",
   "metadata": {},
   "outputs": [],
   "source": [
    "# Imputing the missing values\n",
    "missing_values"
   ]
  },
  {
   "cell_type": "code",
   "execution_count": null,
   "id": "74ac33b8",
   "metadata": {},
   "outputs": [],
   "source": [
    "# Imputation via interpolation for the columns with < 1% missing values as they are likely to be continuous in time\n",
    "col_to_interpolate = dfv.columns.difference(['Depth (m)', 'Start Time', 'End Time', 'Vessel Name'])"
   ]
  },
  {
   "cell_type": "code",
   "execution_count": null,
   "id": "c4c18cf1",
   "metadata": {},
   "outputs": [],
   "source": [
    "impute_time_series(dfv, col_to_interpolate)\n",
    "dfv.isna().sum()"
   ]
  },
  {
   "cell_type": "code",
   "execution_count": null,
   "id": "60b369db",
   "metadata": {},
   "outputs": [],
   "source": [
    "# impute depth column using median value as more than 20% of the values are missing\n",
    "median_depth = dfv['Depth (m)'].median()\n",
    "dfv['Depth (m)'].fillna(median_depth, inplace=True)\n",
    "dfv.isna().sum()"
   ]
  },
  {
   "cell_type": "code",
   "execution_count": null,
   "id": "bbec3369",
   "metadata": {},
   "outputs": [],
   "source": [
    "dfv.head()"
   ]
  },
  {
   "cell_type": "code",
   "execution_count": null,
   "id": "eea53136",
   "metadata": {},
   "outputs": [],
   "source": [
    "# Correlation matrix\n",
    "dfv_sub = dfv.iloc[:,3:]\n",
    "corr = dfv_sub.corr()"
   ]
  },
  {
   "cell_type": "code",
   "execution_count": null,
   "id": "447ee6e0",
   "metadata": {},
   "outputs": [],
   "source": [
    "high_corr = []\n",
    "for i in corr.columns:\n",
    "    high_corr.append(corr[(corr[i] > 0.8) | (corr[i] < -0.8)][i])"
   ]
  },
  {
   "cell_type": "code",
   "execution_count": null,
   "id": "b74e647b",
   "metadata": {},
   "outputs": [],
   "source": [
    "high_corr"
   ]
  },
  {
   "cell_type": "code",
   "execution_count": null,
   "id": "c5194f51",
   "metadata": {},
   "outputs": [],
   "source": [
    "fig, ax = plt.subplots(figsize=(24,20))\n",
    "sns.heatmap(data = corr[(corr > 0.8) | (corr < -0.8)], vmin=-1,vmax=1, cmap='coolwarm', ax = ax, annot= True)\n",
    "ax.set_xticklabels(ax.get_xticklabels(), rotation=90)\n",
    "ax.set_title('Correlation Matrix')\n",
    "plt.show()"
   ]
  },
  {
   "cell_type": "markdown",
   "id": "869e308c",
   "metadata": {},
   "source": [
    "**Comments:**\n",
    "1. Diesel Generators' Power are highly correlated to corresponding Main Engine's Fuel flow rate \n",
    "2. Propulsion power is a linear combination of Port Side Propulsion Power and Starboard Side Propulsion Power \n",
    "3. Speed through water and Speed over ground are positively correlated to the Propulsion Power\n",
    "4. Sea water temperature reducing as the latitude is increasing completely makes sense. This is because, temperatures are lower as one moves towards the poles"
   ]
  }
 ],
 "metadata": {
  "kernelspec": {
   "display_name": "Python 3 (ipykernel)",
   "language": "python",
   "name": "python3"
  },
  "language_info": {
   "codemirror_mode": {
    "name": "ipython",
    "version": 3
   },
   "file_extension": ".py",
   "mimetype": "text/x-python",
   "name": "python",
   "nbconvert_exporter": "python",
   "pygments_lexer": "ipython3",
   "version": "3.10.0"
  }
 },
 "nbformat": 4,
 "nbformat_minor": 5
}
