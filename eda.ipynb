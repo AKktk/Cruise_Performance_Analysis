{
 "cells": [
  {
   "cell_type": "code",
   "execution_count": null,
   "id": "932e8adb",
   "metadata": {},
   "outputs": [],
   "source": [
    "import pandas as pd\n",
    "import numpy as np\n",
    "import matplotlib.pyplot as plt\n",
    "import seaborn as sns\n",
    "pd.set_option('display.max_columns', 50)\n",
    "pd.set_option('display.max_rows', 50)"
   ]
  },
  {
   "cell_type": "code",
   "execution_count": null,
   "id": "cf037486",
   "metadata": {},
   "outputs": [],
   "source": [
    "from utility import *\n",
    "from trends import *\n",
    "from plot import *"
   ]
  },
  {
   "cell_type": "markdown",
   "id": "93b97438",
   "metadata": {},
   "source": [
    "1. The features in the dataset are continuous. They are as follows:\n",
    "    - Power consumed by different components\n",
    "    - Factors influencing power consumption \n",
    "    - Time series in an interval of 5 minutes for 2 vessels, spanning across a year. That makes it $12*24*365 = 105120$ data points for each vessel.\n"
   ]
  },
  {
   "cell_type": "code",
   "execution_count": null,
   "id": "6b8aca89",
   "metadata": {},
   "outputs": [],
   "source": [
    "# Read the data\n",
    "df = pd.read_csv('data/data.csv', header = 0)\n",
    "df.head()"
   ]
  },
  {
   "cell_type": "code",
   "execution_count": null,
   "id": "0696519b",
   "metadata": {},
   "outputs": [],
   "source": [
    "# Check the data types and column names\n",
    "df.dtypes"
   ]
  },
  {
   "cell_type": "markdown",
   "id": "15d06665",
   "metadata": {},
   "source": [
    "# Vessel - Level Analysis"
   ]
  },
  {
   "cell_type": "code",
   "execution_count": null,
   "id": "0fa52796",
   "metadata": {},
   "outputs": [],
   "source": [
    "dfv = pick_vessel(df, 'Vessel 1')"
   ]
  },
  {
   "cell_type": "code",
   "execution_count": null,
   "id": "caaee323",
   "metadata": {},
   "outputs": [],
   "source": [
    "missing_values = dfv.isna().sum()\n",
    "missing_values.plot(kind='bar',figsize=(12,5), title='Missing Values')  # Plot the missing values"
   ]
  },
  {
   "cell_type": "markdown",
   "id": "8718b96a",
   "metadata": {
    "vscode": {
     "languageId": "bat"
    }
   },
   "source": [
    "### Impute the missing Values:\n",
    "1. For features that have $<1%$  missing values, impute by interpolating them using closest non-missing values as the features are all usually smooth within the 5mins time intervals in which they are recorded\n",
    "2. For features that have $>20%$ missing values, impute by using median of the column/feautre"
   ]
  },
  {
   "cell_type": "code",
   "execution_count": null,
   "id": "1bb44a81",
   "metadata": {},
   "outputs": [],
   "source": [
    "# Imputing the missing values\n",
    "missing_values"
   ]
  },
  {
   "cell_type": "code",
   "execution_count": null,
   "id": "74ac33b8",
   "metadata": {},
   "outputs": [],
   "source": [
    "col_to_interpolate = dfv.columns.difference(['Depth (m)', 'Start Time', 'End Time', 'Vessel Name']) # Columns to interpolate"
   ]
  },
  {
   "cell_type": "code",
   "execution_count": null,
   "id": "c4c18cf1",
   "metadata": {},
   "outputs": [],
   "source": [
    "impute_time_series(dfv, col_to_interpolate) # Imputation via interpolation for the columns with < 1% missing values as they are likely to be continuous in time\n",
    "dfv.isna().sum()"
   ]
  },
  {
   "cell_type": "code",
   "execution_count": null,
   "id": "60b369db",
   "metadata": {},
   "outputs": [],
   "source": [
    "median_depth = dfv['Depth (m)'].median() # impution via median value as more than 20% of the values are missing\n",
    "dfv['Depth (m)'].fillna(median_depth, inplace=True)\n",
    "dfv.isna().sum()"
   ]
  },
  {
   "cell_type": "code",
   "execution_count": null,
   "id": "bbec3369",
   "metadata": {},
   "outputs": [],
   "source": [
    "dfv.head()"
   ]
  },
  {
   "cell_type": "markdown",
   "id": "e070881b",
   "metadata": {},
   "source": [
    "### Multi-Collinearity Check"
   ]
  },
  {
   "cell_type": "code",
   "execution_count": null,
   "id": "eea53136",
   "metadata": {},
   "outputs": [],
   "source": [
    "# Correlation matrix\n",
    "dfv_sub = dfv.iloc[:,3:]\n",
    "corr = dfv_sub.corr()"
   ]
  },
  {
   "cell_type": "code",
   "execution_count": null,
   "id": "447ee6e0",
   "metadata": {},
   "outputs": [],
   "source": [
    "high_corr = []\n",
    "for i in corr.columns:\n",
    "    high_corr.append(corr[(corr[i] > 0.8) | (corr[i] < -0.8)][i])\n",
    "print(f'The highly correlated columns are:{high_corr}')"
   ]
  },
  {
   "cell_type": "code",
   "execution_count": null,
   "id": "c5194f51",
   "metadata": {},
   "outputs": [],
   "source": [
    "# Plot the correlation matrix\n",
    "fig, ax = plt.subplots(figsize=(24,20))\n",
    "sns.heatmap(data = corr[(corr > 0.8) | (corr < -0.8)], vmin=-1,vmax=1, cmap='coolwarm', ax = ax, annot= True)\n",
    "ax.set_xticklabels(ax.get_xticklabels(), rotation=90)\n",
    "ax.set_title('Correlation Matrix')\n",
    "plt.show()"
   ]
  },
  {
   "cell_type": "markdown",
   "id": "869e308c",
   "metadata": {},
   "source": [
    "**Comments (Vessel 1):**\n",
    "1. Diesel Generators' Power are highly correlated to corresponding Main Engine's Fuel flow rate \n",
    "2. Propulsion power is a linear combination of Port Side Propulsion Power and Starboard Side Propulsion Power \n",
    "3. Speed through water and Speed over ground are positively correlated to the Propulsion Power\n",
    "4. Sea water temperature reducing as the latitude is increasing completely makes sense. This is because, temperatures are lower as one moves towards the poles\n",
    "\n",
    "**Comments (Vessel 2):**\n",
    "1. Diesel"
   ]
  },
  {
   "cell_type": "markdown",
   "id": "8e30ad7f",
   "metadata": {},
   "source": [
    "### Trend and seasonality analysis"
   ]
  },
  {
   "cell_type": "code",
   "execution_count": null,
   "id": "b8e14991",
   "metadata": {},
   "outputs": [],
   "source": [
    "# Resampling the data for hourly, daily, weekly and seasonal trends\n",
    "hourly_df, daily_df, weekly_df, monthly_df = resample(dfv)"
   ]
  },
  {
   "cell_type": "markdown",
   "id": "d93cb303",
   "metadata": {},
   "source": [
    "| Column Name |\n",
    "|-------------|\n",
    "| Power Galley 1 (MW) |\n",
    "| Power Galley 2 (MW) |\n",
    "| Power Service (MW) |\n",
    "| HVAC Chiller 1 Power (MW) |\n",
    "| HVAC Chiller 2 Power (MW) |\n",
    "| HVAC Chiller 3 Power (MW) |\n",
    "| Scrubber Power (MW) |\n",
    "| Sea Temperature (Celsius) |\n",
    "| Boiler 1 Fuel Flow Rate (L/h) |\n",
    "| Boiler 2 Fuel Flow Rate (L/h) |\n",
    "| Incinerator 1 Fuel Flow Rate (L/h) |\n",
    "| Diesel Generator 1 Power (MW) |\n",
    "| Diesel Generator 2 Power (MW) |\n",
    "| Diesel Generator 3 Power (MW) |\n",
    "| Diesel Generator 4 Power (MW) |\n",
    "| Latitude (Degrees) |\n",
    "| Longitude (Degrees) |\n",
    "| Relative Wind Angle (Degrees) |\n",
    "| True Wind Angle (Degrees) |\n",
    "| Depth (m) |\n",
    "| Relative Wind Direction (Degrees) |\n",
    "| True Wind Direction (Degrees) |\n",
    "| Draft (m) |\n",
    "| Speed Over Ground (knots) |\n",
    "| True Wind Speed (knots) |\n",
    "| Relative Wind Speed (knots) |\n",
    "| Speed Through Water (knots) |\n",
    "| Local Time (h) |\n",
    "| Trim (m) |\n",
    "| Propulsion Power (MW) |\n",
    "| Port Side Propulsion Power (MW) |\n",
    "| Starboard Side Propulsion Power (MW) |\n",
    "| Bow Thruster 1 Power (MW) |\n",
    "| Bow Thruster 2 Power (MW) |\n",
    "| Bow Thruster 3 Power (MW) |\n",
    "| Stern Thruster 1 Power (MW) |\n",
    "| Stern Thruster 2 Power (MW) |\n",
    "| Main Engine 1 Fuel Flow Rate (kg/h) |\n",
    "| Main Engine 2 Fuel Flow Rate (kg/h) |\n",
    "| Main Engine 3 Fuel Flow Rate (kg/h) |\n",
    "| Main Engine 4 Fuel Flow Rate (kg/h) |"
   ]
  },
  {
   "cell_type": "code",
   "execution_count": null,
   "id": "c319ac96",
   "metadata": {},
   "outputs": [],
   "source": [
    "# Pick a feature from the above list to visualize the trend over\n",
    "trend_plot(hourly_df, daily_df, weekly_df, monthly_df, 'Propulsion Power (MW)')"
   ]
  },
  {
   "cell_type": "code",
   "execution_count": null,
   "id": "23db4c22",
   "metadata": {},
   "outputs": [],
   "source": [
    "# Pick 2 features from the above list to visualize their relationship with each other over time\n",
    "pair_plot(daily_df, hourly_df, weekly_df, monthly_df, 'Propulsion Power (MW)', 'Relative Wind Speed (knots)')"
   ]
  },
  {
   "cell_type": "code",
   "execution_count": null,
   "id": "23b1b093",
   "metadata": {},
   "outputs": [],
   "source": [
    "weekly_df.reset_index(inplace=True)\n",
    "weekly_df.head()"
   ]
  },
  {
   "cell_type": "code",
   "execution_count": null,
   "id": "e092eb18",
   "metadata": {},
   "outputs": [],
   "source": [
    "# Generate column Table\n",
    "table = '| Column Name |\\n|-------------|\\n'\n",
    "for column in weekly_df.columns:\n",
    "    table += f'| {column} |\\n'\n",
    "print(table)"
   ]
  }
 ],
 "metadata": {
  "kernelspec": {
   "display_name": "Python 3 (ipykernel)",
   "language": "python",
   "name": "python3"
  },
  "language_info": {
   "codemirror_mode": {
    "name": "ipython",
    "version": 3
   },
   "file_extension": ".py",
   "mimetype": "text/x-python",
   "name": "python",
   "nbconvert_exporter": "python",
   "pygments_lexer": "ipython3",
   "version": "3.10.0"
  }
 },
 "nbformat": 4,
 "nbformat_minor": 5
}
