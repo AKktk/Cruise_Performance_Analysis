{
 "cells": [
  {
   "cell_type": "code",
   "execution_count": 1,
   "id": "932e8adb",
   "metadata": {},
   "outputs": [],
   "source": [
    "import pandas as pd\n",
    "import numpy as np\n",
    "import matplotlib.pyplot as plt\n",
    "import seaborn as sns\n",
    "pd.set_option('display.max_columns', 50)\n",
    "pd.set_option('display.max_rows', 50)"
   ]
  },
  {
   "cell_type": "code",
   "execution_count": 2,
   "id": "cf037486",
   "metadata": {},
   "outputs": [],
   "source": [
    "from utility import *\n",
    "from trends import *\n",
    "from plot import *\n",
    "from kpi_computation import *"
   ]
  },
  {
   "cell_type": "markdown",
   "id": "93b97438",
   "metadata": {},
   "source": [
    "1. The features in the dataset are continuous. They are as follows:\n",
    "    - Power consumed by different components\n",
    "    - Factors influencing power consumption \n",
    "    - Time series in an interval of 5 minutes for 2 vessels, spanning across a year. That makes it $12*24*365 = 105120$ data points for each vessel.\n"
   ]
  },
  {
   "cell_type": "code",
   "execution_count": 3,
   "id": "6b8aca89",
   "metadata": {},
   "outputs": [
    {
     "data": {
      "text/html": [
       "<div>\n",
       "<style scoped>\n",
       "    .dataframe tbody tr th:only-of-type {\n",
       "        vertical-align: middle;\n",
       "    }\n",
       "\n",
       "    .dataframe tbody tr th {\n",
       "        vertical-align: top;\n",
       "    }\n",
       "\n",
       "    .dataframe thead th {\n",
       "        text-align: right;\n",
       "    }\n",
       "</style>\n",
       "<table border=\"1\" class=\"dataframe\">\n",
       "  <thead>\n",
       "    <tr style=\"text-align: right;\">\n",
       "      <th></th>\n",
       "      <th>Start Time</th>\n",
       "      <th>End Time</th>\n",
       "      <th>Vessel Name</th>\n",
       "      <th>Power Galley 1 (MW)</th>\n",
       "      <th>Power Galley 2 (MW)</th>\n",
       "      <th>Power Service (MW)</th>\n",
       "      <th>HVAC Chiller 1 Power (MW)</th>\n",
       "      <th>HVAC Chiller 2 Power (MW)</th>\n",
       "      <th>HVAC Chiller 3 Power (MW)</th>\n",
       "      <th>Scrubber Power (MW)</th>\n",
       "      <th>Sea Temperature (Celsius)</th>\n",
       "      <th>Boiler 1 Fuel Flow Rate (L/h)</th>\n",
       "      <th>Boiler 2 Fuel Flow Rate (L/h)</th>\n",
       "      <th>Incinerator 1 Fuel Flow Rate (L/h)</th>\n",
       "      <th>Diesel Generator 1 Power (MW)</th>\n",
       "      <th>Diesel Generator 2 Power (MW)</th>\n",
       "      <th>Diesel Generator 3 Power (MW)</th>\n",
       "      <th>Diesel Generator 4 Power (MW)</th>\n",
       "      <th>Latitude (Degrees)</th>\n",
       "      <th>Longitude (Degrees)</th>\n",
       "      <th>Relative Wind Angle (Degrees)</th>\n",
       "      <th>True Wind Angle (Degrees)</th>\n",
       "      <th>Depth (m)</th>\n",
       "      <th>Relative Wind Direction (Degrees)</th>\n",
       "      <th>True Wind Direction (Degrees)</th>\n",
       "      <th>Draft (m)</th>\n",
       "      <th>Speed Over Ground (knots)</th>\n",
       "      <th>True Wind Speed (knots)</th>\n",
       "      <th>Relative Wind Speed (knots)</th>\n",
       "      <th>Speed Through Water (knots)</th>\n",
       "      <th>Local Time (h)</th>\n",
       "      <th>Trim (m)</th>\n",
       "      <th>Propulsion Power (MW)</th>\n",
       "      <th>Port Side Propulsion Power (MW)</th>\n",
       "      <th>Starboard Side Propulsion Power (MW)</th>\n",
       "      <th>Bow Thruster 1 Power (MW)</th>\n",
       "      <th>Bow Thruster 2 Power (MW)</th>\n",
       "      <th>Bow Thruster 3 Power (MW)</th>\n",
       "      <th>Stern Thruster 1 Power (MW)</th>\n",
       "      <th>Stern Thruster 2 Power (MW)</th>\n",
       "      <th>Main Engine 1 Fuel Flow Rate (kg/h)</th>\n",
       "      <th>Main Engine 2 Fuel Flow Rate (kg/h)</th>\n",
       "      <th>Main Engine 3 Fuel Flow Rate (kg/h)</th>\n",
       "      <th>Main Engine 4 Fuel Flow Rate (kg/h)</th>\n",
       "    </tr>\n",
       "  </thead>\n",
       "  <tbody>\n",
       "    <tr>\n",
       "      <th>0</th>\n",
       "      <td>2023-01-01T00:00:00</td>\n",
       "      <td>2023-01-01T00:05:00</td>\n",
       "      <td>Vessel 1</td>\n",
       "      <td>0.0946</td>\n",
       "      <td>0.1384</td>\n",
       "      <td>5.4654</td>\n",
       "      <td>0.5074</td>\n",
       "      <td>0.0</td>\n",
       "      <td>0.4979</td>\n",
       "      <td>0.4191</td>\n",
       "      <td>27.3000</td>\n",
       "      <td>0.0000</td>\n",
       "      <td>0.0</td>\n",
       "      <td>19.0090</td>\n",
       "      <td>0.0</td>\n",
       "      <td>0.0</td>\n",
       "      <td>0.0</td>\n",
       "      <td>7.3349</td>\n",
       "      <td>17.72523</td>\n",
       "      <td>-65.45738</td>\n",
       "      <td>8.4428</td>\n",
       "      <td>10.9049</td>\n",
       "      <td>NaN</td>\n",
       "      <td>64.3112</td>\n",
       "      <td>66.7735</td>\n",
       "      <td>7.8721</td>\n",
       "      <td>7.6300</td>\n",
       "      <td>19.5050</td>\n",
       "      <td>27.0579</td>\n",
       "      <td>7.8881</td>\n",
       "      <td>19.67367</td>\n",
       "      <td>-0.1425</td>\n",
       "      <td>1.8691</td>\n",
       "      <td>0.8854</td>\n",
       "      <td>0.9837</td>\n",
       "      <td>0.0</td>\n",
       "      <td>0.0</td>\n",
       "      <td>0.0</td>\n",
       "      <td>0.0</td>\n",
       "      <td>0.0</td>\n",
       "      <td>0.0</td>\n",
       "      <td>0.0</td>\n",
       "      <td>0.0</td>\n",
       "      <td>1645.82000</td>\n",
       "    </tr>\n",
       "    <tr>\n",
       "      <th>1</th>\n",
       "      <td>2023-01-01T00:05:00</td>\n",
       "      <td>2023-01-01T00:10:00</td>\n",
       "      <td>Vessel 1</td>\n",
       "      <td>0.0540</td>\n",
       "      <td>0.1370</td>\n",
       "      <td>5.4387</td>\n",
       "      <td>0.5158</td>\n",
       "      <td>0.0</td>\n",
       "      <td>0.4982</td>\n",
       "      <td>0.4204</td>\n",
       "      <td>27.3000</td>\n",
       "      <td>47.7695</td>\n",
       "      <td>0.0</td>\n",
       "      <td>216.3180</td>\n",
       "      <td>0.0</td>\n",
       "      <td>0.0</td>\n",
       "      <td>0.0</td>\n",
       "      <td>7.3011</td>\n",
       "      <td>17.73088</td>\n",
       "      <td>-65.44803</td>\n",
       "      <td>41.3100</td>\n",
       "      <td>78.7817</td>\n",
       "      <td>NaN</td>\n",
       "      <td>62.8161</td>\n",
       "      <td>64.3452</td>\n",
       "      <td>7.8713</td>\n",
       "      <td>7.5800</td>\n",
       "      <td>19.2968</td>\n",
       "      <td>26.8067</td>\n",
       "      <td>7.7438</td>\n",
       "      <td>19.75763</td>\n",
       "      <td>-0.1405</td>\n",
       "      <td>1.8622</td>\n",
       "      <td>0.8737</td>\n",
       "      <td>0.9885</td>\n",
       "      <td>0.0</td>\n",
       "      <td>0.0</td>\n",
       "      <td>0.0</td>\n",
       "      <td>0.0</td>\n",
       "      <td>0.0</td>\n",
       "      <td>0.0</td>\n",
       "      <td>0.0</td>\n",
       "      <td>0.0</td>\n",
       "      <td>1643.78999</td>\n",
       "    </tr>\n",
       "    <tr>\n",
       "      <th>2</th>\n",
       "      <td>2023-01-01T00:10:00</td>\n",
       "      <td>2023-01-01T00:15:00</td>\n",
       "      <td>Vessel 1</td>\n",
       "      <td>0.0439</td>\n",
       "      <td>0.1785</td>\n",
       "      <td>5.5265</td>\n",
       "      <td>0.5117</td>\n",
       "      <td>0.0</td>\n",
       "      <td>0.5032</td>\n",
       "      <td>0.4199</td>\n",
       "      <td>27.3000</td>\n",
       "      <td>77.2034</td>\n",
       "      <td>0.0</td>\n",
       "      <td>439.4300</td>\n",
       "      <td>0.0</td>\n",
       "      <td>0.0</td>\n",
       "      <td>0.0</td>\n",
       "      <td>7.3299</td>\n",
       "      <td>17.73655</td>\n",
       "      <td>-65.43887</td>\n",
       "      <td>23.9997</td>\n",
       "      <td>33.6216</td>\n",
       "      <td>NaN</td>\n",
       "      <td>80.7356</td>\n",
       "      <td>90.3574</td>\n",
       "      <td>7.8718</td>\n",
       "      <td>7.4379</td>\n",
       "      <td>19.4491</td>\n",
       "      <td>25.8380</td>\n",
       "      <td>7.6320</td>\n",
       "      <td>19.84158</td>\n",
       "      <td>-0.1450</td>\n",
       "      <td>1.8036</td>\n",
       "      <td>0.8441</td>\n",
       "      <td>0.9595</td>\n",
       "      <td>0.0</td>\n",
       "      <td>0.0</td>\n",
       "      <td>0.0</td>\n",
       "      <td>0.0</td>\n",
       "      <td>0.0</td>\n",
       "      <td>0.0</td>\n",
       "      <td>0.0</td>\n",
       "      <td>0.0</td>\n",
       "      <td>1642.07000</td>\n",
       "    </tr>\n",
       "    <tr>\n",
       "      <th>3</th>\n",
       "      <td>2023-01-01T00:15:00</td>\n",
       "      <td>2023-01-01T00:20:00</td>\n",
       "      <td>Vessel 1</td>\n",
       "      <td>0.0733</td>\n",
       "      <td>0.1725</td>\n",
       "      <td>5.5257</td>\n",
       "      <td>0.5177</td>\n",
       "      <td>0.0</td>\n",
       "      <td>0.5103</td>\n",
       "      <td>0.4188</td>\n",
       "      <td>27.3076</td>\n",
       "      <td>60.6369</td>\n",
       "      <td>0.0</td>\n",
       "      <td>218.2797</td>\n",
       "      <td>0.0</td>\n",
       "      <td>0.0</td>\n",
       "      <td>0.0</td>\n",
       "      <td>7.3712</td>\n",
       "      <td>17.74202</td>\n",
       "      <td>-65.42980</td>\n",
       "      <td>14.5540</td>\n",
       "      <td>20.0348</td>\n",
       "      <td>NaN</td>\n",
       "      <td>75.9723</td>\n",
       "      <td>81.4529</td>\n",
       "      <td>7.8710</td>\n",
       "      <td>7.3979</td>\n",
       "      <td>20.6231</td>\n",
       "      <td>27.6498</td>\n",
       "      <td>7.5080</td>\n",
       "      <td>19.92551</td>\n",
       "      <td>-0.1308</td>\n",
       "      <td>1.8457</td>\n",
       "      <td>0.8543</td>\n",
       "      <td>0.9914</td>\n",
       "      <td>0.0</td>\n",
       "      <td>0.0</td>\n",
       "      <td>0.0</td>\n",
       "      <td>0.0</td>\n",
       "      <td>0.0</td>\n",
       "      <td>0.0</td>\n",
       "      <td>0.0</td>\n",
       "      <td>0.0</td>\n",
       "      <td>1650.71000</td>\n",
       "    </tr>\n",
       "    <tr>\n",
       "      <th>4</th>\n",
       "      <td>2023-01-01T00:20:00</td>\n",
       "      <td>2023-01-01T00:25:00</td>\n",
       "      <td>Vessel 1</td>\n",
       "      <td>0.0780</td>\n",
       "      <td>0.1397</td>\n",
       "      <td>5.4634</td>\n",
       "      <td>0.5169</td>\n",
       "      <td>0.0</td>\n",
       "      <td>0.5100</td>\n",
       "      <td>0.4203</td>\n",
       "      <td>27.3518</td>\n",
       "      <td>55.2184</td>\n",
       "      <td>0.0</td>\n",
       "      <td>0.0000</td>\n",
       "      <td>0.0</td>\n",
       "      <td>0.0</td>\n",
       "      <td>0.0</td>\n",
       "      <td>7.3032</td>\n",
       "      <td>17.74713</td>\n",
       "      <td>-65.42042</td>\n",
       "      <td>14.5632</td>\n",
       "      <td>20.0328</td>\n",
       "      <td>NaN</td>\n",
       "      <td>74.6509</td>\n",
       "      <td>80.1204</td>\n",
       "      <td>7.8707</td>\n",
       "      <td>7.4343</td>\n",
       "      <td>20.4554</td>\n",
       "      <td>27.5341</td>\n",
       "      <td>7.5521</td>\n",
       "      <td>20.00947</td>\n",
       "      <td>-0.1269</td>\n",
       "      <td>1.8399</td>\n",
       "      <td>0.8467</td>\n",
       "      <td>0.9932</td>\n",
       "      <td>0.0</td>\n",
       "      <td>0.0</td>\n",
       "      <td>0.0</td>\n",
       "      <td>0.0</td>\n",
       "      <td>0.0</td>\n",
       "      <td>0.0</td>\n",
       "      <td>0.0</td>\n",
       "      <td>0.0</td>\n",
       "      <td>1644.54000</td>\n",
       "    </tr>\n",
       "  </tbody>\n",
       "</table>\n",
       "</div>"
      ],
      "text/plain": [
       "            Start Time             End Time Vessel Name  Power Galley 1 (MW)  \\\n",
       "0  2023-01-01T00:00:00  2023-01-01T00:05:00    Vessel 1               0.0946   \n",
       "1  2023-01-01T00:05:00  2023-01-01T00:10:00    Vessel 1               0.0540   \n",
       "2  2023-01-01T00:10:00  2023-01-01T00:15:00    Vessel 1               0.0439   \n",
       "3  2023-01-01T00:15:00  2023-01-01T00:20:00    Vessel 1               0.0733   \n",
       "4  2023-01-01T00:20:00  2023-01-01T00:25:00    Vessel 1               0.0780   \n",
       "\n",
       "   Power Galley 2 (MW)  Power Service (MW)  HVAC Chiller 1 Power (MW)  \\\n",
       "0               0.1384              5.4654                     0.5074   \n",
       "1               0.1370              5.4387                     0.5158   \n",
       "2               0.1785              5.5265                     0.5117   \n",
       "3               0.1725              5.5257                     0.5177   \n",
       "4               0.1397              5.4634                     0.5169   \n",
       "\n",
       "   HVAC Chiller 2 Power (MW)  HVAC Chiller 3 Power (MW)  Scrubber Power (MW)  \\\n",
       "0                        0.0                     0.4979               0.4191   \n",
       "1                        0.0                     0.4982               0.4204   \n",
       "2                        0.0                     0.5032               0.4199   \n",
       "3                        0.0                     0.5103               0.4188   \n",
       "4                        0.0                     0.5100               0.4203   \n",
       "\n",
       "   Sea Temperature (Celsius)  Boiler 1 Fuel Flow Rate (L/h)  \\\n",
       "0                    27.3000                         0.0000   \n",
       "1                    27.3000                        47.7695   \n",
       "2                    27.3000                        77.2034   \n",
       "3                    27.3076                        60.6369   \n",
       "4                    27.3518                        55.2184   \n",
       "\n",
       "   Boiler 2 Fuel Flow Rate (L/h)  Incinerator 1 Fuel Flow Rate (L/h)  \\\n",
       "0                            0.0                             19.0090   \n",
       "1                            0.0                            216.3180   \n",
       "2                            0.0                            439.4300   \n",
       "3                            0.0                            218.2797   \n",
       "4                            0.0                              0.0000   \n",
       "\n",
       "   Diesel Generator 1 Power (MW)  Diesel Generator 2 Power (MW)  \\\n",
       "0                            0.0                            0.0   \n",
       "1                            0.0                            0.0   \n",
       "2                            0.0                            0.0   \n",
       "3                            0.0                            0.0   \n",
       "4                            0.0                            0.0   \n",
       "\n",
       "   Diesel Generator 3 Power (MW)  Diesel Generator 4 Power (MW)  \\\n",
       "0                            0.0                         7.3349   \n",
       "1                            0.0                         7.3011   \n",
       "2                            0.0                         7.3299   \n",
       "3                            0.0                         7.3712   \n",
       "4                            0.0                         7.3032   \n",
       "\n",
       "   Latitude (Degrees)  Longitude (Degrees)  Relative Wind Angle (Degrees)  \\\n",
       "0            17.72523            -65.45738                         8.4428   \n",
       "1            17.73088            -65.44803                        41.3100   \n",
       "2            17.73655            -65.43887                        23.9997   \n",
       "3            17.74202            -65.42980                        14.5540   \n",
       "4            17.74713            -65.42042                        14.5632   \n",
       "\n",
       "   True Wind Angle (Degrees)  Depth (m)  Relative Wind Direction (Degrees)  \\\n",
       "0                    10.9049        NaN                            64.3112   \n",
       "1                    78.7817        NaN                            62.8161   \n",
       "2                    33.6216        NaN                            80.7356   \n",
       "3                    20.0348        NaN                            75.9723   \n",
       "4                    20.0328        NaN                            74.6509   \n",
       "\n",
       "   True Wind Direction (Degrees)  Draft (m)  Speed Over Ground (knots)  \\\n",
       "0                        66.7735     7.8721                     7.6300   \n",
       "1                        64.3452     7.8713                     7.5800   \n",
       "2                        90.3574     7.8718                     7.4379   \n",
       "3                        81.4529     7.8710                     7.3979   \n",
       "4                        80.1204     7.8707                     7.4343   \n",
       "\n",
       "   True Wind Speed (knots)  Relative Wind Speed (knots)  \\\n",
       "0                  19.5050                      27.0579   \n",
       "1                  19.2968                      26.8067   \n",
       "2                  19.4491                      25.8380   \n",
       "3                  20.6231                      27.6498   \n",
       "4                  20.4554                      27.5341   \n",
       "\n",
       "   Speed Through Water (knots)  Local Time (h)  Trim (m)  \\\n",
       "0                       7.8881        19.67367   -0.1425   \n",
       "1                       7.7438        19.75763   -0.1405   \n",
       "2                       7.6320        19.84158   -0.1450   \n",
       "3                       7.5080        19.92551   -0.1308   \n",
       "4                       7.5521        20.00947   -0.1269   \n",
       "\n",
       "   Propulsion Power (MW)  Port Side Propulsion Power (MW)  \\\n",
       "0                 1.8691                           0.8854   \n",
       "1                 1.8622                           0.8737   \n",
       "2                 1.8036                           0.8441   \n",
       "3                 1.8457                           0.8543   \n",
       "4                 1.8399                           0.8467   \n",
       "\n",
       "   Starboard Side Propulsion Power (MW)  Bow Thruster 1 Power (MW)  \\\n",
       "0                                0.9837                        0.0   \n",
       "1                                0.9885                        0.0   \n",
       "2                                0.9595                        0.0   \n",
       "3                                0.9914                        0.0   \n",
       "4                                0.9932                        0.0   \n",
       "\n",
       "   Bow Thruster 2 Power (MW)  Bow Thruster 3 Power (MW)  \\\n",
       "0                        0.0                        0.0   \n",
       "1                        0.0                        0.0   \n",
       "2                        0.0                        0.0   \n",
       "3                        0.0                        0.0   \n",
       "4                        0.0                        0.0   \n",
       "\n",
       "   Stern Thruster 1 Power (MW)  Stern Thruster 2 Power (MW)  \\\n",
       "0                          0.0                          0.0   \n",
       "1                          0.0                          0.0   \n",
       "2                          0.0                          0.0   \n",
       "3                          0.0                          0.0   \n",
       "4                          0.0                          0.0   \n",
       "\n",
       "   Main Engine 1 Fuel Flow Rate (kg/h)  Main Engine 2 Fuel Flow Rate (kg/h)  \\\n",
       "0                                  0.0                                  0.0   \n",
       "1                                  0.0                                  0.0   \n",
       "2                                  0.0                                  0.0   \n",
       "3                                  0.0                                  0.0   \n",
       "4                                  0.0                                  0.0   \n",
       "\n",
       "   Main Engine 3 Fuel Flow Rate (kg/h)  Main Engine 4 Fuel Flow Rate (kg/h)  \n",
       "0                                  0.0                           1645.82000  \n",
       "1                                  0.0                           1643.78999  \n",
       "2                                  0.0                           1642.07000  \n",
       "3                                  0.0                           1650.71000  \n",
       "4                                  0.0                           1644.54000  "
      ]
     },
     "execution_count": 3,
     "metadata": {},
     "output_type": "execute_result"
    }
   ],
   "source": [
    "# Read the data\n",
    "df = pd.read_csv('data/data.csv', header = 0)\n",
    "df.head()"
   ]
  },
  {
   "cell_type": "code",
   "execution_count": 4,
   "id": "0696519b",
   "metadata": {},
   "outputs": [
    {
     "data": {
      "text/plain": [
       "Start Time                               object\n",
       "End Time                                 object\n",
       "Vessel Name                              object\n",
       "Power Galley 1 (MW)                     float64\n",
       "Power Galley 2 (MW)                     float64\n",
       "Power Service (MW)                      float64\n",
       "HVAC Chiller 1 Power (MW)               float64\n",
       "HVAC Chiller 2 Power (MW)               float64\n",
       "HVAC Chiller 3 Power (MW)               float64\n",
       "Scrubber Power (MW)                     float64\n",
       "Sea Temperature (Celsius)               float64\n",
       "Boiler 1 Fuel Flow Rate (L/h)           float64\n",
       "Boiler 2 Fuel Flow Rate (L/h)           float64\n",
       "Incinerator 1 Fuel Flow Rate (L/h)      float64\n",
       "Diesel Generator 1 Power (MW)           float64\n",
       "Diesel Generator 2 Power (MW)           float64\n",
       "Diesel Generator 3 Power (MW)           float64\n",
       "Diesel Generator 4 Power (MW)           float64\n",
       "Latitude (Degrees)                      float64\n",
       "Longitude (Degrees)                     float64\n",
       "Relative Wind Angle (Degrees)           float64\n",
       "True Wind Angle (Degrees)               float64\n",
       "Depth (m)                               float64\n",
       "Relative Wind Direction (Degrees)       float64\n",
       "True Wind Direction (Degrees)           float64\n",
       "Draft (m)                               float64\n",
       "Speed Over Ground (knots)               float64\n",
       "True Wind Speed (knots)                 float64\n",
       "Relative Wind Speed (knots)             float64\n",
       "Speed Through Water (knots)             float64\n",
       "Local Time (h)                          float64\n",
       "Trim (m)                                float64\n",
       "Propulsion Power (MW)                   float64\n",
       "Port Side Propulsion Power (MW)         float64\n",
       "Starboard Side Propulsion Power (MW)    float64\n",
       "Bow Thruster 1 Power (MW)               float64\n",
       "Bow Thruster 2 Power (MW)               float64\n",
       "Bow Thruster 3 Power (MW)               float64\n",
       "Stern Thruster 1 Power (MW)             float64\n",
       "Stern Thruster 2 Power (MW)             float64\n",
       "Main Engine 1 Fuel Flow Rate (kg/h)     float64\n",
       "Main Engine 2 Fuel Flow Rate (kg/h)     float64\n",
       "Main Engine 3 Fuel Flow Rate (kg/h)     float64\n",
       "Main Engine 4 Fuel Flow Rate (kg/h)     float64\n",
       "dtype: object"
      ]
     },
     "execution_count": 4,
     "metadata": {},
     "output_type": "execute_result"
    }
   ],
   "source": [
    "# Check the data types and column names\n",
    "df.dtypes"
   ]
  },
  {
   "cell_type": "markdown",
   "id": "15d06665",
   "metadata": {},
   "source": [
    "# Vessel - Level Analysis"
   ]
  },
  {
   "cell_type": "code",
   "execution_count": 5,
   "id": "0fa52796",
   "metadata": {},
   "outputs": [],
   "source": [
    "dfv = pick_vessel(df, 'Vessel 1')\n",
    "# dfv = pick_vessel(df, 'Vessel 2')\n",
    "# dfv = df"
   ]
  },
  {
   "cell_type": "code",
   "execution_count": null,
   "id": "461ef083",
   "metadata": {},
   "outputs": [],
   "source": [
    "feature_distribution(dfv)"
   ]
  },
  {
   "cell_type": "markdown",
   "id": "e132918e",
   "metadata": {},
   "source": [
    "**Comments (Vessel 1):**\n",
    "1. Power Galleys: Mostly constant range of power consumption in operation. Less variation and wouldn't contribute much in forecast models\n",
    "2. HVAC Chillers: A lot of variation, but extremely skewed in the sense that most of of the operation range is fixed\n",
    "3. "
   ]
  },
  {
   "cell_type": "code",
   "execution_count": null,
   "id": "caaee323",
   "metadata": {},
   "outputs": [],
   "source": [
    "missing_values = dfv.isna().sum()\n",
    "missing_values.plot(kind='bar',figsize=(12,5), title='Missing Values')  # Plot the missing values"
   ]
  },
  {
   "cell_type": "markdown",
   "id": "8718b96a",
   "metadata": {
    "vscode": {
     "languageId": "bat"
    }
   },
   "source": [
    "### Impute the missing Values:\n",
    "1. For features that have <1%  missing values, impute by interpolating them using closest non-missing values as the features are all usually smooth within the 5mins time intervals in which they are recorded\n",
    "2. For features that have >20% missing values, impute by using median of the column/feautre"
   ]
  },
  {
   "cell_type": "code",
   "execution_count": null,
   "id": "1bb44a81",
   "metadata": {},
   "outputs": [],
   "source": [
    "# Imputing the missing values\n",
    "missing_values"
   ]
  },
  {
   "cell_type": "code",
   "execution_count": 6,
   "id": "74ac33b8",
   "metadata": {},
   "outputs": [],
   "source": [
    "col_to_interpolate = dfv.columns.difference(['Depth (m)', 'Start Time', 'End Time', 'Vessel Name']) # Columns to interpolate"
   ]
  },
  {
   "cell_type": "code",
   "execution_count": 7,
   "id": "c4c18cf1",
   "metadata": {},
   "outputs": [
    {
     "name": "stderr",
     "output_type": "stream",
     "text": [
      "c:\\Users\\karth\\AppData\\Local\\Programs\\Python\\Python310\\lib\\site-packages\\pandas\\core\\indexing.py:1773: SettingWithCopyWarning: \n",
      "A value is trying to be set on a copy of a slice from a DataFrame.\n",
      "Try using .loc[row_indexer,col_indexer] = value instead\n",
      "\n",
      "See the caveats in the documentation: https://pandas.pydata.org/pandas-docs/stable/user_guide/indexing.html#returning-a-view-versus-a-copy\n",
      "  self._setitem_single_column(ilocs[0], value, pi)\n"
     ]
    },
    {
     "data": {
      "text/plain": [
       "Start Time                                  0\n",
       "End Time                                    0\n",
       "Vessel Name                                 0\n",
       "Power Galley 1 (MW)                         0\n",
       "Power Galley 2 (MW)                         0\n",
       "Power Service (MW)                          0\n",
       "HVAC Chiller 1 Power (MW)                   0\n",
       "HVAC Chiller 2 Power (MW)                   0\n",
       "HVAC Chiller 3 Power (MW)                   0\n",
       "Scrubber Power (MW)                         0\n",
       "Sea Temperature (Celsius)                   0\n",
       "Boiler 1 Fuel Flow Rate (L/h)               0\n",
       "Boiler 2 Fuel Flow Rate (L/h)               0\n",
       "Incinerator 1 Fuel Flow Rate (L/h)          0\n",
       "Diesel Generator 1 Power (MW)               0\n",
       "Diesel Generator 2 Power (MW)               0\n",
       "Diesel Generator 3 Power (MW)               0\n",
       "Diesel Generator 4 Power (MW)               0\n",
       "Latitude (Degrees)                          0\n",
       "Longitude (Degrees)                         0\n",
       "Relative Wind Angle (Degrees)               0\n",
       "True Wind Angle (Degrees)                   0\n",
       "Depth (m)                               27756\n",
       "Relative Wind Direction (Degrees)           0\n",
       "True Wind Direction (Degrees)               0\n",
       "Draft (m)                                   0\n",
       "Speed Over Ground (knots)                   0\n",
       "True Wind Speed (knots)                     0\n",
       "Relative Wind Speed (knots)                 0\n",
       "Speed Through Water (knots)                 0\n",
       "Local Time (h)                              0\n",
       "Trim (m)                                    0\n",
       "Propulsion Power (MW)                       0\n",
       "Port Side Propulsion Power (MW)             0\n",
       "Starboard Side Propulsion Power (MW)        0\n",
       "Bow Thruster 1 Power (MW)                   0\n",
       "Bow Thruster 2 Power (MW)                   0\n",
       "Bow Thruster 3 Power (MW)                   0\n",
       "Stern Thruster 1 Power (MW)                 0\n",
       "Stern Thruster 2 Power (MW)                 0\n",
       "Main Engine 1 Fuel Flow Rate (kg/h)         0\n",
       "Main Engine 2 Fuel Flow Rate (kg/h)         0\n",
       "Main Engine 3 Fuel Flow Rate (kg/h)         0\n",
       "Main Engine 4 Fuel Flow Rate (kg/h)         0\n",
       "dtype: int64"
      ]
     },
     "execution_count": 7,
     "metadata": {},
     "output_type": "execute_result"
    }
   ],
   "source": [
    "impute_time_series(dfv, col_to_interpolate) # Imputation via interpolation for the columns with < 1% missing values as they are likely to be continuous in time\n",
    "dfv.isna().sum()"
   ]
  },
  {
   "cell_type": "code",
   "execution_count": 8,
   "id": "60b369db",
   "metadata": {},
   "outputs": [
    {
     "name": "stderr",
     "output_type": "stream",
     "text": [
      "c:\\Users\\karth\\AppData\\Local\\Programs\\Python\\Python310\\lib\\site-packages\\pandas\\core\\generic.py:6392: SettingWithCopyWarning: \n",
      "A value is trying to be set on a copy of a slice from a DataFrame\n",
      "\n",
      "See the caveats in the documentation: https://pandas.pydata.org/pandas-docs/stable/user_guide/indexing.html#returning-a-view-versus-a-copy\n",
      "  return self._update_inplace(result)\n"
     ]
    },
    {
     "data": {
      "text/plain": [
       "Start Time                              0\n",
       "End Time                                0\n",
       "Vessel Name                             0\n",
       "Power Galley 1 (MW)                     0\n",
       "Power Galley 2 (MW)                     0\n",
       "Power Service (MW)                      0\n",
       "HVAC Chiller 1 Power (MW)               0\n",
       "HVAC Chiller 2 Power (MW)               0\n",
       "HVAC Chiller 3 Power (MW)               0\n",
       "Scrubber Power (MW)                     0\n",
       "Sea Temperature (Celsius)               0\n",
       "Boiler 1 Fuel Flow Rate (L/h)           0\n",
       "Boiler 2 Fuel Flow Rate (L/h)           0\n",
       "Incinerator 1 Fuel Flow Rate (L/h)      0\n",
       "Diesel Generator 1 Power (MW)           0\n",
       "Diesel Generator 2 Power (MW)           0\n",
       "Diesel Generator 3 Power (MW)           0\n",
       "Diesel Generator 4 Power (MW)           0\n",
       "Latitude (Degrees)                      0\n",
       "Longitude (Degrees)                     0\n",
       "Relative Wind Angle (Degrees)           0\n",
       "True Wind Angle (Degrees)               0\n",
       "Depth (m)                               0\n",
       "Relative Wind Direction (Degrees)       0\n",
       "True Wind Direction (Degrees)           0\n",
       "Draft (m)                               0\n",
       "Speed Over Ground (knots)               0\n",
       "True Wind Speed (knots)                 0\n",
       "Relative Wind Speed (knots)             0\n",
       "Speed Through Water (knots)             0\n",
       "Local Time (h)                          0\n",
       "Trim (m)                                0\n",
       "Propulsion Power (MW)                   0\n",
       "Port Side Propulsion Power (MW)         0\n",
       "Starboard Side Propulsion Power (MW)    0\n",
       "Bow Thruster 1 Power (MW)               0\n",
       "Bow Thruster 2 Power (MW)               0\n",
       "Bow Thruster 3 Power (MW)               0\n",
       "Stern Thruster 1 Power (MW)             0\n",
       "Stern Thruster 2 Power (MW)             0\n",
       "Main Engine 1 Fuel Flow Rate (kg/h)     0\n",
       "Main Engine 2 Fuel Flow Rate (kg/h)     0\n",
       "Main Engine 3 Fuel Flow Rate (kg/h)     0\n",
       "Main Engine 4 Fuel Flow Rate (kg/h)     0\n",
       "dtype: int64"
      ]
     },
     "execution_count": 8,
     "metadata": {},
     "output_type": "execute_result"
    }
   ],
   "source": [
    "median_depth = dfv['Depth (m)'].median() # impution via median value as more than 20% of the values are missing\n",
    "dfv['Depth (m)'].fillna(median_depth, inplace=True)\n",
    "dfv.isna().sum()"
   ]
  },
  {
   "cell_type": "code",
   "execution_count": null,
   "id": "bbec3369",
   "metadata": {},
   "outputs": [],
   "source": [
    "dfv.head()"
   ]
  },
  {
   "cell_type": "markdown",
   "id": "e070881b",
   "metadata": {},
   "source": [
    "### Multi-Collinearity Check"
   ]
  },
  {
   "cell_type": "code",
   "execution_count": null,
   "id": "eea53136",
   "metadata": {},
   "outputs": [],
   "source": [
    "# Correlation matrix\n",
    "dfv_sub = dfv.iloc[:,3:]\n",
    "corr = dfv_sub.corr()"
   ]
  },
  {
   "cell_type": "code",
   "execution_count": null,
   "id": "447ee6e0",
   "metadata": {},
   "outputs": [],
   "source": [
    "high_corr = []\n",
    "for i in corr.columns:\n",
    "    high_corr.append(corr[(corr[i] > 0.8) | (corr[i] < -0.8)][i])\n",
    "print(f'The highly correlated columns are:{high_corr}')"
   ]
  },
  {
   "cell_type": "code",
   "execution_count": null,
   "id": "c5194f51",
   "metadata": {},
   "outputs": [],
   "source": [
    "# Plot the correlation matrix\n",
    "fig, ax = plt.subplots(figsize=(24,20))\n",
    "sns.heatmap(data = corr[(corr > 0.8) | (corr < -0.8)], vmin=-1,vmax=1, cmap='coolwarm', ax = ax, annot= True)\n",
    "ax.set_xticklabels(ax.get_xticklabels(), rotation=90)\n",
    "ax.set_title('Correlation Matrix')\n",
    "plt.show()"
   ]
  },
  {
   "cell_type": "markdown",
   "id": "869e308c",
   "metadata": {},
   "source": [
    "**Comments (Vessel 1):**\n",
    "1. Diesel Generators' Power are highly correlated to corresponding Main Engine's Fuel flow rate \n",
    "2. Propulsion power is a linear combination of Port Side Propulsion Power and Starboard Side Propulsion Power \n",
    "3. Speed through water and Speed over ground are positively correlated to the Propulsion Power\n",
    "4. Sea water temperature reducing as the latitude is increasing completely makes sense. This is because, temperatures are lower as one moves towards the poles\n",
    "\n",
    "**Comments (Vessel 2):**\n",
    "1. Diesel"
   ]
  },
  {
   "cell_type": "markdown",
   "id": "8e30ad7f",
   "metadata": {},
   "source": [
    "### Trend and seasonality analysis"
   ]
  },
  {
   "cell_type": "code",
   "execution_count": 9,
   "id": "b8e14991",
   "metadata": {},
   "outputs": [
    {
     "name": "stderr",
     "output_type": "stream",
     "text": [
      "c:\\DDS\\Track_DS\\git\\Cruise_Performance_Analysis\\trends.py:5: SettingWithCopyWarning: \n",
      "A value is trying to be set on a copy of a slice from a DataFrame.\n",
      "Try using .loc[row_indexer,col_indexer] = value instead\n",
      "\n",
      "See the caveats in the documentation: https://pandas.pydata.org/pandas-docs/stable/user_guide/indexing.html#returning-a-view-versus-a-copy\n",
      "  data['Start Time'] = pd.to_datetime(data['Start Time'])\n"
     ]
    }
   ],
   "source": [
    "# Resampling the data for hourly, daily, weekly and seasonal trends\n",
    "hourly_df, daily_df, weekly_df, monthly_df = resample(dfv)"
   ]
  },
  {
   "cell_type": "markdown",
   "id": "d93cb303",
   "metadata": {},
   "source": [
    "| Column Name |\n",
    "|-------------|\n",
    "| Power Galley 1 (MW) |\n",
    "| Power Galley 2 (MW) |\n",
    "| Power Service (MW) |\n",
    "| HVAC Chiller 1 Power (MW) |\n",
    "| HVAC Chiller 2 Power (MW) |\n",
    "| HVAC Chiller 3 Power (MW) |\n",
    "| Scrubber Power (MW) |\n",
    "| Sea Temperature (Celsius) |\n",
    "| Boiler 1 Fuel Flow Rate (L/h) |\n",
    "| Boiler 2 Fuel Flow Rate (L/h) |\n",
    "| Incinerator 1 Fuel Flow Rate (L/h) |\n",
    "| Diesel Generator 1 Power (MW) |\n",
    "| Diesel Generator 2 Power (MW) |\n",
    "| Diesel Generator 3 Power (MW) |\n",
    "| Diesel Generator 4 Power (MW) |\n",
    "| Latitude (Degrees) |\n",
    "| Longitude (Degrees) |\n",
    "| Relative Wind Angle (Degrees) |\n",
    "| True Wind Angle (Degrees) |\n",
    "| Depth (m) |\n",
    "| Relative Wind Direction (Degrees) |\n",
    "| True Wind Direction (Degrees) |\n",
    "| Draft (m) |\n",
    "| Speed Over Ground (knots) |\n",
    "| True Wind Speed (knots) |\n",
    "| Relative Wind Speed (knots) |\n",
    "| Speed Through Water (knots) |\n",
    "| Local Time (h) |\n",
    "| Trim (m) |\n",
    "| Propulsion Power (MW) |\n",
    "| Port Side Propulsion Power (MW) |\n",
    "| Starboard Side Propulsion Power (MW) |\n",
    "| Bow Thruster 1 Power (MW) |\n",
    "| Bow Thruster 2 Power (MW) |\n",
    "| Bow Thruster 3 Power (MW) |\n",
    "| Stern Thruster 1 Power (MW) |\n",
    "| Stern Thruster 2 Power (MW) |\n",
    "| Main Engine 1 Fuel Flow Rate (kg/h) |\n",
    "| Main Engine 2 Fuel Flow Rate (kg/h) |\n",
    "| Main Engine 3 Fuel Flow Rate (kg/h) |\n",
    "| Main Engine 4 Fuel Flow Rate (kg/h) |"
   ]
  },
  {
   "cell_type": "code",
   "execution_count": null,
   "id": "c319ac96",
   "metadata": {},
   "outputs": [],
   "source": [
    "# Pick a feature from the above list to visualize the trend over\n",
    "trend_plot(hourly_df, daily_df, weekly_df, monthly_df, 'Propulsion Power (MW)')"
   ]
  },
  {
   "cell_type": "code",
   "execution_count": null,
   "id": "23db4c22",
   "metadata": {},
   "outputs": [],
   "source": [
    "# Pick 2 features from the above list to visualize their relationship with each other over time\n",
    "pair_plot(hourly_df, daily_df, weekly_df, monthly_df, 'Propulsion Power (MW)', 'Relative Wind Speed (knots)')"
   ]
  },
  {
   "cell_type": "markdown",
   "id": "464c76b2",
   "metadata": {},
   "source": [
    "### KPI Generation and Analysis\n",
    "3 KPIs are generated based on domain knowledge and research:\n",
    "1. Fuel Consumption per nautical mile ( A measure of fuel efficiency)\n",
    "2. Total Power Consumed\n",
    "3. Power Specific Fuel Consumption\n",
    "\n",
    "**Method**\n",
    "- Fuel Consumption per nautical mile = Sum of Engine Fuel Flow / Speed through water. It is capped at a maximum of 5000, because it goes to infinity when speed through is very close to 0. This happens while docking and anchoring\n",
    "- Total Power Consumed = Sum power consumed by Power Galleys, HVAC Chillers, Power Service, Scrubber, Propulsion and Thrusters\n",
    "- Power Specific Fuel Consumption = Fuel flow in engines, boilers and incinerator/ Total power consumed. Similar to the very commonly used fuel efficiency or brake specific fuel consumption (BSFC). It is used to assess the efficiency of any engine that burns fuel and produces rotational power, typically internal combustion engines. Assuming Fuel in Boiler and Incinerator to be Diesel and the density to be 0.85 kg/litre, for mass flow calculation."
   ]
  },
  {
   "cell_type": "code",
   "execution_count": 10,
   "id": "f3392c3a",
   "metadata": {},
   "outputs": [],
   "source": [
    "h_kpi = compute_kpis(hourly_df)"
   ]
  },
  {
   "cell_type": "code",
   "execution_count": null,
   "id": "a28b026d",
   "metadata": {},
   "outputs": [],
   "source": [
    "h_kpi.head()"
   ]
  },
  {
   "cell_type": "code",
   "execution_count": 11,
   "id": "ef490810",
   "metadata": {},
   "outputs": [
    {
     "data": {
      "text/plain": [
       "count    8760.000000\n",
       "mean     2457.516023\n",
       "std      1221.875339\n",
       "min         0.000000\n",
       "25%      1139.851460\n",
       "50%      2198.528747\n",
       "75%      3758.369128\n",
       "max      4000.000000\n",
       "Name: Fuel Efficiency (consumption/nautical mile), dtype: float64"
      ]
     },
     "execution_count": 11,
     "metadata": {},
     "output_type": "execute_result"
    }
   ],
   "source": [
    "h_kpi['Fuel Consumption per nautical mile'].describe()"
   ]
  },
  {
   "cell_type": "code",
   "execution_count": null,
   "id": "fcb55043",
   "metadata": {},
   "outputs": [],
   "source": [
    "plt.figure(figsize=(12,6))\n",
    "h_kpi['Fuel Consumption per nautical mile'].hist(bins=30, alpha=0.75, color='blue')\n",
    "plt.show()"
   ]
  },
  {
   "cell_type": "code",
   "execution_count": 12,
   "id": "52e329aa",
   "metadata": {},
   "outputs": [],
   "source": [
    "d_kpi = compute_kpis(daily_df)\n",
    "w_kpi = compute_kpis(weekly_df)\n",
    "m_kpi = compute_kpis(monthly_df)"
   ]
  },
  {
   "cell_type": "code",
   "execution_count": null,
   "id": "009452ef",
   "metadata": {},
   "outputs": [],
   "source": [
    "pair_plot(h_kpi, d_kpi, w_kpi, m_kpi, 'Total Power Consumed (MW)', 'Sea Temperature (Celsius)')"
   ]
  },
  {
   "cell_type": "code",
   "execution_count": 13,
   "id": "d1d97801",
   "metadata": {},
   "outputs": [
    {
     "data": {
      "image/png": "[encoded data removed]",
      "text/plain": [
       "<Figure size 1008x720 with 4 Axes>"
      ]
     },
     "metadata": {
      "needs_background": "light"
     },
     "output_type": "display_data"
    }
   ],
   "source": [
    "pair_plot(h_kpi, d_kpi, w_kpi, m_kpi, 'Fuel Consumption per nautical mile', 'Sea Temperature (Celsius)')"
   ]
  },
  {
   "cell_type": "markdown",
   "id": "bd9c8467",
   "metadata": {},
   "source": [
    "**Comments(Vessel 1):**\n",
    "- On the long-term front, with seasonality in play: we can observe from the monthly chart that for warmer conditions of water, more power is consumed. \n",
    "- This totally makes sense as the water would be less dense and the ship would have to work generate thrust to move through it\n",
    "- The effect is not fully observed in the Fuel Efficiency chart as lower density also means lower resistance to move through water. "
   ]
  },
  {
   "cell_type": "code",
   "execution_count": null,
   "id": "3f88cbbb",
   "metadata": {},
   "outputs": [],
   "source": [
    "pair_plot(h_kpi, d_kpi, w_kpi, m_kpi, 'Total Power Consumed (MW)', 'Speed Through Water (knots)')"
   ]
  },
  {
   "cell_type": "code",
   "execution_count": 14,
   "id": "5e293efd",
   "metadata": {},
   "outputs": [
    {
     "data": {
      "image/png": "[encoded data removed]",
      "text/plain": [
       "<Figure size 1008x720 with 4 Axes>"
      ]
     },
     "metadata": {
      "needs_background": "light"
     },
     "output_type": "display_data"
    }
   ],
   "source": [
    "pair_plot(h_kpi, d_kpi, w_kpi, m_kpi, 'Fuel Consumption per nautical mile', 'Speed Through Water (knots)')"
   ]
  },
  {
   "cell_type": "markdown",
   "id": "9aa6ade6",
   "metadata": {},
   "source": [
    "**Comments (Vessel 1)**\n",
    "- Based on the scatter plots, the optimal speed of operation are betweent 7.5-8.5 and 15-17.5, where there is a horizontal spread of points: the fuel required to operate in these range of speeds seem to be the same and not fluctuate a lot"
   ]
  },
  {
   "cell_type": "code",
   "execution_count": null,
   "id": "23b1b093",
   "metadata": {},
   "outputs": [],
   "source": [
    "weekly_df.reset_index(inplace=True)\n",
    "weekly_df.head()"
   ]
  },
  {
   "cell_type": "code",
   "execution_count": null,
   "id": "5e134532",
   "metadata": {},
   "outputs": [],
   "source": [
    "hourly_df.to_csv(\"hourly.csv\")"
   ]
  },
  {
   "cell_type": "code",
   "execution_count": null,
   "id": "e092eb18",
   "metadata": {},
   "outputs": [],
   "source": [
    "# Generate column Table\n",
    "table = '| Column Name |\\n|-------------|\\n'\n",
    "for column in weekly_df.columns:\n",
    "    table += f'| {column} |\\n'\n",
    "print(table)"
   ]
  },
  {
   "cell_type": "code",
   "execution_count": null,
   "id": "6a3a4b97",
   "metadata": {},
   "outputs": [],
   "source": []
  }
 ],
 "metadata": {
  "kernelspec": {
   "display_name": "Python 3 (ipykernel)",
   "language": "python",
   "name": "python3"
  },
  "language_info": {
   "codemirror_mode": {
    "name": "ipython",
    "version": 3
   },
   "file_extension": ".py",
   "mimetype": "text/x-python",
   "name": "python",
   "nbconvert_exporter": "python",
   "pygments_lexer": "ipython3",
   "version": "3.10.0"
  }
 },
 "nbformat": 4,
 "nbformat_minor": 5
}
